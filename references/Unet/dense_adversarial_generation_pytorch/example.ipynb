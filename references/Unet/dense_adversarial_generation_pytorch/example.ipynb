{
 "cells": [
  {
   "cell_type": "markdown",
   "metadata": {},
   "source": [
    "### Imports"
   ]
  },
  {
   "cell_type": "code",
   "execution_count": 1,
   "metadata": {},
   "outputs": [],
   "source": [
    "import numpy as np\n",
    "import matplotlib\n",
    "import matplotlib.pyplot as plt\n",
    "import torch\n",
    "from model import UNet_baysian\n",
    "from utils import make_one_hot, generate_target, generate_target_swap\n",
    "from attack import DAG\n",
    "from random import randint"
   ]
  },
  {
   "cell_type": "markdown",
   "metadata": {},
   "source": [
    "### Hyperparamters for the attack"
   ]
  },
  {
   "cell_type": "code",
   "execution_count": 2,
   "metadata": {},
   "outputs": [],
   "source": [
    "num_iterations=30\n",
    "gamma=0.5\n",
    "# num=15"
   ]
  },
  {
   "cell_type": "markdown",
   "metadata": {},
   "source": [
    "### Loading model and inputs"
   ]
  },
  {
   "cell_type": "code",
   "execution_count": 3,
   "metadata": {},
   "outputs": [],
   "source": [
    "device = torch.device(\"cuda\" if torch.cuda.is_available() else \"cpu\")\n",
    "model=UNet_baysian()\n",
    "model=model.to(device)\n",
    "pretrained = True"
   ]
  },
  {
   "cell_type": "code",
   "execution_count": 4,
   "metadata": {
    "tags": []
   },
   "outputs": [],
   "source": [
    "#Load Entire Data\n",
    "import os\n",
    "import torch\n",
    "from torch.utils.data import Dataset, DataLoader\n",
    "from torchvision.transforms import transforms\n",
    "from PIL import Image\n",
    "import glob\n",
    "\n",
    "class OASISDatasetTrain(Dataset):\n",
    "    def __init__(self, root_dir, transform=None):\n",
    "        self.root_dir = root_dir\n",
    "        self.transform = transform\n",
    "        self.subjects = sorted(os.listdir(root_dir))\n",
    "\n",
    "    def __len__(self):\n",
    "        return len(self.subjects)\n",
    "\n",
    "    def __getitem__(self, idx):\n",
    "        subject_dir = os.path.join(self.root_dir, self.subjects[idx])\n",
    "        # print(subject_dir)\n",
    "\n",
    "        # Load and transform the images\n",
    "        if self.transform:\n",
    "            transform_images = transforms.Compose([\n",
    "                self.transform,\n",
    "                transforms.ToTensor(),\n",
    "                # transforms.Normalize([0.5], [0.5])\n",
    "            ])\n",
    "\n",
    "            transform_labels = transforms.Compose([\n",
    "                self.transform,\n",
    "                transforms.ToTensor(),\n",
    "                transforms.Lambda(lambda x: (x * 14).long()),\n",
    "                transforms.Lambda(lambda x: torch.eye(15)[x].permute(3, 0, 1, 2))\n",
    "            ])\n",
    "            \n",
    "            imageFilenamesList = glob.glob(subject_dir+'/PROCESSED/MPRAGE/T88_111/*t88_gfc_tra_90.gif')\n",
    "            img_path = imageFilenamesList[0]\n",
    "            images = Image.open(img_path)\n",
    "            images = transform_images(images)\n",
    "            \n",
    "            labelFilenamesList = glob.glob(subject_dir+'/FSL_SEG/*gfc_fseg_tra_90.gif')\n",
    "            label_path = labelFilenamesList[0]\n",
    "            label = Image.open(label_path)\n",
    "            label = transform_labels(label)\n",
    "\n",
    "        return images, label\n",
    "\n",
    "# Define the transformations to apply to the images\n",
    "transform = transforms.Resize((256, 256))\n",
    "\n",
    "# Create a DataLoader instance\n",
    "root_dir = \"datasets/OASIS_full/disc1\"\n",
    "dataset = OASISDatasetTrain(root_dir, transform=transform)\n",
    "dataloader = DataLoader(dataset, batch_size=12, shuffle=True)\n"
   ]
  },
  {
   "cell_type": "code",
   "execution_count": 5,
   "metadata": {
    "tags": []
   },
   "outputs": [],
   "source": [
    "#Train Model\n",
    "# Define loss function and optimizer\n",
    "criterion = torch.nn.BCEWithLogitsLoss()\n",
    "optimizer = torch.optim.Adam(model.parameters(), lr=1e-2)\n"
   ]
  },
  {
   "cell_type": "markdown",
   "metadata": {},
   "source": [
    "**Training**"
   ]
  },
  {
   "cell_type": "code",
   "execution_count": 6,
   "metadata": {},
   "outputs": [
    {
     "name": "stdout",
     "output_type": "stream",
     "text": [
      "Epoch [1/100], Loss: 0.1135\n",
      "Epoch [2/100], Loss: 0.0627\n",
      "Epoch [3/100], Loss: 0.0595\n",
      "Epoch [4/100], Loss: 0.0476\n",
      "Epoch [5/100], Loss: 0.0407\n",
      "Epoch [6/100], Loss: 0.0440\n",
      "Epoch [7/100], Loss: 0.0382\n",
      "Epoch [8/100], Loss: 0.0384\n",
      "Epoch [9/100], Loss: 0.0416\n",
      "Epoch [10/100], Loss: 0.0352\n",
      "Epoch [11/100], Loss: 0.0371\n",
      "Epoch [12/100], Loss: 0.0343\n",
      "Epoch [13/100], Loss: 0.0365\n",
      "Epoch [14/100], Loss: 0.0356\n",
      "Epoch [15/100], Loss: 0.0364\n",
      "Epoch [16/100], Loss: 0.0351\n",
      "Epoch [17/100], Loss: 0.0328\n",
      "Epoch [18/100], Loss: 0.0332\n",
      "Epoch [19/100], Loss: 0.0323\n",
      "Epoch [20/100], Loss: 0.0309\n",
      "Epoch [21/100], Loss: 0.0331\n",
      "Epoch [22/100], Loss: 0.0405\n",
      "Epoch [23/100], Loss: 0.0835\n",
      "Epoch [24/100], Loss: 0.0821\n",
      "Epoch [25/100], Loss: 0.0287\n",
      "Epoch [26/100], Loss: 0.0328\n",
      "Epoch [27/100], Loss: 0.0283\n",
      "Epoch [28/100], Loss: 0.0281\n",
      "Epoch [29/100], Loss: 0.0288\n",
      "Epoch [30/100], Loss: 0.0327\n",
      "Epoch [31/100], Loss: 0.0344\n",
      "Epoch [32/100], Loss: 0.0299\n",
      "Epoch [33/100], Loss: 0.0338\n",
      "Epoch [34/100], Loss: 0.0923\n",
      "Epoch [35/100], Loss: 0.0303\n",
      "Epoch [36/100], Loss: 0.0278\n",
      "Epoch [37/100], Loss: 0.0281\n",
      "Epoch [38/100], Loss: 0.0294\n",
      "Epoch [39/100], Loss: 0.0323\n",
      "Epoch [40/100], Loss: 0.0368\n",
      "Epoch [41/100], Loss: 0.0286\n",
      "Epoch [42/100], Loss: 0.0355\n",
      "Epoch [43/100], Loss: 0.0325\n",
      "Epoch [44/100], Loss: 0.0289\n",
      "Epoch [45/100], Loss: 0.0288\n",
      "Epoch [46/100], Loss: 0.0314\n",
      "Epoch [47/100], Loss: 0.0379\n",
      "Epoch [48/100], Loss: 0.0358\n",
      "Epoch [49/100], Loss: 0.0301\n",
      "Epoch [50/100], Loss: 0.0271\n",
      "Epoch [51/100], Loss: 0.0260\n",
      "Epoch [52/100], Loss: 0.0264\n",
      "Epoch [53/100], Loss: 0.0301\n",
      "Epoch [54/100], Loss: 0.0261\n",
      "Epoch [55/100], Loss: 0.0263\n",
      "Epoch [56/100], Loss: 0.0262\n",
      "Epoch [57/100], Loss: 0.0268\n",
      "Epoch [58/100], Loss: 0.0266\n",
      "Epoch [59/100], Loss: 0.0292\n",
      "Epoch [60/100], Loss: 0.0300\n",
      "Epoch [61/100], Loss: 0.0271\n",
      "Epoch [62/100], Loss: 0.0266\n",
      "Epoch [63/100], Loss: 0.0831\n",
      "Epoch [64/100], Loss: 0.0373\n",
      "Epoch [65/100], Loss: 0.0267\n",
      "Epoch [66/100], Loss: 0.0324\n",
      "Epoch [67/100], Loss: 0.0254\n",
      "Epoch [68/100], Loss: 0.0263\n",
      "Epoch [69/100], Loss: 0.0304\n",
      "Epoch [70/100], Loss: 0.0305\n",
      "Epoch [71/100], Loss: 0.0247\n",
      "Epoch [72/100], Loss: 0.0335\n",
      "Epoch [73/100], Loss: 0.0303\n",
      "Epoch [74/100], Loss: 0.0293\n",
      "Epoch [75/100], Loss: 0.0257\n",
      "Epoch [76/100], Loss: 0.0299\n",
      "Epoch [77/100], Loss: 0.0254\n",
      "Epoch [78/100], Loss: 0.0284\n",
      "Epoch [79/100], Loss: 0.0255\n",
      "Epoch [80/100], Loss: 0.0262\n",
      "Epoch [81/100], Loss: 0.0279\n",
      "Epoch [82/100], Loss: 0.0255\n",
      "Epoch [83/100], Loss: 0.0254\n",
      "Epoch [84/100], Loss: 0.0724\n",
      "Epoch [85/100], Loss: 0.0302\n",
      "Epoch [86/100], Loss: 0.0273\n",
      "Epoch [87/100], Loss: 0.0243\n",
      "Epoch [88/100], Loss: 0.0267\n",
      "Epoch [89/100], Loss: 0.0285\n",
      "Epoch [90/100], Loss: 0.0251\n",
      "Epoch [91/100], Loss: 0.0259\n",
      "Epoch [92/100], Loss: 0.0271\n",
      "Epoch [93/100], Loss: 0.0270\n",
      "Epoch [94/100], Loss: 0.0289\n",
      "Epoch [95/100], Loss: 0.0253\n",
      "Epoch [96/100], Loss: 0.0248\n",
      "Epoch [97/100], Loss: 0.0252\n",
      "Epoch [98/100], Loss: 0.0239\n",
      "Epoch [99/100], Loss: 0.0253\n",
      "Epoch [100/100], Loss: 0.0295\n"
     ]
    }
   ],
   "source": [
    "if pretrained is False:\n",
    "    model = torch.load(open(\"checkpoints/custom_trained\",'rb'))\n",
    "else:\n",
    "    # Train model\n",
    "    from torch.autograd import Variable\n",
    "    num_epochs = 100\n",
    "    for epoch in range(num_epochs):\n",
    "        # Training loop\n",
    "        for batch_idx, (inputs, targets) in enumerate(dataloader):\n",
    "            inputs, targets = inputs.to(device), targets.to(device)\n",
    "            # input(inputs.shape)\n",
    "\n",
    "            # Zero the gradients\n",
    "            optimizer.zero_grad()\n",
    "\n",
    "            # Forward pass\n",
    "            outputs = model(inputs)\n",
    "\n",
    "            loss = criterion(outputs, targets.squeeze(dim=2).float())\n",
    "\n",
    "            # Backward pass\n",
    "            loss.backward()\n",
    "\n",
    "            # Update parameters\n",
    "            optimizer.step()\n",
    "\n",
    "        # Print progress\n",
    "        print(\"Epoch [{}/{}], Loss: {:.4f}\".format(epoch+1, num_epochs, loss.item()))\n",
    "    torch.save(model, \"checkpoints/custom_trained\")"
   ]
  },
  {
   "cell_type": "markdown",
   "metadata": {},
   "source": [
    "**Attack requires different trasforms to be applied**"
   ]
  },
  {
   "cell_type": "code",
   "execution_count": 7,
   "metadata": {},
   "outputs": [],
   "source": [
    "#Load Entire Data for attack\n",
    "import os\n",
    "import torch\n",
    "from torch.utils.data import Dataset, DataLoader\n",
    "from torchvision.transforms import transforms\n",
    "from PIL import Image\n",
    "import glob\n",
    "\n",
    "class OASISDatasetAttack(Dataset):\n",
    "    def __init__(self, root_dir, transform=None):\n",
    "        self.root_dir = root_dir\n",
    "        self.transform = transform\n",
    "        self.subjects = sorted(os.listdir(root_dir))\n",
    "\n",
    "    def __len__(self):\n",
    "        return len(self.subjects)\n",
    "\n",
    "    def __getitem__(self, idx):\n",
    "        subject_dir = os.path.join(self.root_dir, self.subjects[idx])\n",
    "\n",
    "        # Load and transform the images\n",
    "        if self.transform:\n",
    "            transform_images = transforms.Compose([\n",
    "                self.transform,\n",
    "                transforms.ToTensor(),\n",
    "                # transforms.Normalize([0.5], [0.5])\n",
    "            ])\n",
    "\n",
    "            transform_labels = transforms.Compose([\n",
    "                self.transform,\n",
    "                transforms.ToTensor(),\n",
    "                transforms.Lambda(lambda x: (x * 14).long()),\n",
    "                # transforms.Lambda(lambda x: torch.eye(15)[x].permute(3, 0, 1, 2))\n",
    "            ])\n",
    "            \n",
    "            imageFilenamesList = glob.glob(subject_dir+'/PROCESSED/MPRAGE/T88_111/*t88_gfc_tra_90.gif')\n",
    "            img_path = imageFilenamesList[0]\n",
    "            images = Image.open(img_path)\n",
    "            images = transform_images(images)\n",
    "            \n",
    "            labelFilenamesList = glob.glob(subject_dir+'/FSL_SEG/*gfc_fseg_tra_90.gif')\n",
    "            label_path = labelFilenamesList[0]\n",
    "            label = Image.open(label_path)\n",
    "            label = transform_labels(label)\n",
    "\n",
    "        return images, label\n",
    "\n",
    "# Define the transformations to apply to the images\n",
    "transform = transforms.Resize((256, 256))\n",
    "\n",
    "# Create a DataLoader instance\n",
    "root_dir = \"datasets/OASIS_full/disc1\"\n",
    "test_root_dir = \"datasets/OASIS_full/disc5\"\n",
    "# dataset = OASISDatasetAttack(root_dir, transform=transform)\n",
    "test_dataset = OASISDatasetAttack(test_root_dir, transform=transform)\n",
    "# dataloader = DataLoader(dataset, batch_size=12, shuffle=True)\n",
    "test_dataloader = DataLoader(test_dataset, batch_size=12, shuffle=False)\n"
   ]
  },
  {
   "cell_type": "markdown",
   "metadata": {},
   "source": [
    "# Adversarial Evaluation vs Ground Truth and Original prediction vs ground truth"
   ]
  },
  {
   "cell_type": "code",
   "execution_count": 8,
   "metadata": {},
   "outputs": [],
   "source": [
    "from medpy import metric\n",
    "def calculate_metric_percase(pred,gt):\n",
    "    pred[pred>0] = 1\n",
    "    gt[gt>0] = 1\n",
    "    if pred.sum() > 0 and gt.sum()>0:\n",
    "        dice = metric.binary.dc(pred,gt)\n",
    "        hd95 = metric.binary.hd95(pred,gt)\n",
    "        return dice,hd95\n",
    "    elif pred.sum() > 0 and gt.sum()==0:\n",
    "        return 1,0\n",
    "    else:\n",
    "        return 0,0"
   ]
  },
  {
   "cell_type": "code",
   "execution_count": 46,
   "metadata": {
    "tags": []
   },
   "outputs": [
    {
     "name": "stderr",
     "output_type": "stream",
     "text": [
      "/tmp/ipykernel_28018/995846072.py:11: UserWarning: To copy construct from a tensor, it is recommended to use sourceTensor.clone().detach() or sourceTensor.clone().detach().requires_grad_(True), rather than torch.tensor(sourceTensor).\n",
      "  image , label = torch.tensor(image, requires_grad=True).float(), torch.tensor(label).float()\n"
     ]
    },
    {
     "name": "stdout",
     "output_type": "stream",
     "text": [
      "Condition Reached, no gradient\n",
      "Condition Reached, no gradient\n",
      "Condition Reached, no gradient\n",
      "Condition Reached, no gradient\n",
      "Condition Reached, no gradient\n",
      "Condition Reached, no gradient\n",
      "Condition Reached, no gradient\n",
      "Condition Reached, no gradient\n",
      "Condition Reached, no gradient\n",
      "Condition Reached, no gradient\n",
      "Condition Reached, no gradient\n",
      "Condition Reached, no gradient\n",
      "Condition Reached, no gradient\n",
      "Condition Reached, no gradient\n",
      "Condition Reached, no gradient\n",
      "Condition Reached, no gradient\n"
     ]
    }
   ],
   "source": [
    "from collections import defaultdict\n",
    "# len(test_dataset)\n",
    "dices = defaultdict(list)\n",
    "dices_clean = defaultdict(list)\n",
    "hds = defaultdict(list)\n",
    "hds_clean = defaultdict(list)\n",
    "for i in range(len(test_dataset)):\n",
    "    image,label=test_dataset[i]#image_all[idx],label_all[idx]\n",
    "    image = image.unsqueeze(dim=0)\n",
    "    \n",
    "    image , label = torch.tensor(image, requires_grad=True).float(), torch.tensor(label).float()\n",
    "    image , label = image.to(device), label.to(device)\n",
    "    \n",
    "    label_oh = make_one_hot(label.long(),15,device)\n",
    "    \n",
    "    adv_target=generate_target_swap(label_oh.cpu().numpy())\n",
    "    adv_target=torch.from_numpy(adv_target).float()\n",
    "    adv_target=adv_target.to(device)\n",
    "    \n",
    "    _, adv=torch.max(adv_target,1)\n",
    "    adv=adv.cpu().numpy()\n",
    "    \n",
    "    image_adv,output_clean, noise_total, noise_iteration, prediction_iteration, image_iteration=DAG(model=model,\n",
    "              image=image,\n",
    "              ground_truth=label_oh,\n",
    "              adv_target=adv_target,\n",
    "              num_iterations=int(num_iterations),\n",
    "              gamma=gamma,\n",
    "              no_background=True,\n",
    "              background_class=0,\n",
    "              device=device,\n",
    "              verbose=False)\n",
    "\n",
    "    for j in range(0,15):\n",
    "        dice, hd = calculate_metric_percase(prediction_iteration[-1] == j, label[0].cpu().numpy() == j)\n",
    "        dices[j].append(dice)\n",
    "        hds[j].append(hd)\n",
    "        dice, hd = calculate_metric_percase(prediction_iteration[0] == j, label[0].cpu().numpy() == j)\n",
    "        dices_clean[j].append(dice)\n",
    "        hds_clean[j].append(hd)"
   ]
  },
  {
   "cell_type": "code",
   "execution_count": 47,
   "metadata": {
    "tags": []
   },
   "outputs": [],
   "source": [
    "sum_dice = 0\n",
    "sum_hd = 0\n",
    "sum_dice_clean = 0\n",
    "sum_hd_clean = 0\n",
    "for k in dices.keys():\n",
    "    # print(k)\n",
    "    dice_per_class = np.mean(dices[k])\n",
    "    hd_per_class = np.mean(hds[k])\n",
    "    sum_dice += dice_per_class\n",
    "    sum_hd += hd_per_class\n",
    "    dice_per_class = np.mean(dices_clean[k])\n",
    "    hd_per_class = np.mean(hds_clean[k])\n",
    "    sum_dice_clean += dice_per_class\n",
    "    sum_hd_clean += hd_per_class"
   ]
  },
  {
   "cell_type": "code",
   "execution_count": 48,
   "metadata": {},
   "outputs": [
    {
     "data": {
      "text/plain": [
       "0.20904915975441665"
      ]
     },
     "execution_count": 48,
     "metadata": {},
     "output_type": "execute_result"
    }
   ],
   "source": [
    "sum_dice / len(dices.keys())"
   ]
  },
  {
   "cell_type": "code",
   "execution_count": 49,
   "metadata": {},
   "outputs": [
    {
     "data": {
      "text/plain": [
       "7.588979977667467"
      ]
     },
     "execution_count": 49,
     "metadata": {},
     "output_type": "execute_result"
    }
   ],
   "source": [
    "sum_hd / len(hds.keys())"
   ]
  },
  {
   "cell_type": "code",
   "execution_count": 50,
   "metadata": {},
   "outputs": [
    {
     "data": {
      "text/plain": [
       "0.32224833015799825"
      ]
     },
     "execution_count": 50,
     "metadata": {},
     "output_type": "execute_result"
    }
   ],
   "source": [
    "sum_dice_clean / len(dices.keys())"
   ]
  },
  {
   "cell_type": "code",
   "execution_count": 51,
   "metadata": {},
   "outputs": [
    {
     "data": {
      "text/plain": [
       "2.9108734093499544"
      ]
     },
     "execution_count": 51,
     "metadata": {},
     "output_type": "execute_result"
    }
   ],
   "source": [
    "sum_hd_clean / len(hds.keys())"
   ]
  },
  {
   "cell_type": "markdown",
   "metadata": {},
   "source": [
    "# Transfer between Unets"
   ]
  },
  {
   "cell_type": "code",
   "execution_count": 7,
   "metadata": {},
   "outputs": [],
   "source": [
    "model_100 = torch.load(open(\"checkpoints/trained_100_epochs\",'rb'))\n",
    "model_60 = torch.load(open(\"checkpoints/trained_60_epochs\",'rb'))"
   ]
  },
  {
   "cell_type": "code",
   "execution_count": 10,
   "metadata": {},
   "outputs": [
    {
     "name": "stderr",
     "output_type": "stream",
     "text": [
      "/tmp/ipykernel_36750/2051955657.py:15: UserWarning: To copy construct from a tensor, it is recommended to use sourceTensor.clone().detach() or sourceTensor.clone().detach().requires_grad_(True), rather than torch.tensor(sourceTensor).\n",
      "  image , label = torch.tensor(image, requires_grad=True).float(), torch.tensor(label).float()\n"
     ]
    },
    {
     "name": "stdout",
     "output_type": "stream",
     "text": [
      "Condition Reached, no gradient\n",
      "Condition Reached, no gradient\n",
      "Condition Reached, no gradient\n",
      "Condition Reached, no gradient\n",
      "Condition Reached, no gradient\n",
      "Condition Reached, no gradient\n",
      "Condition Reached, no gradient\n",
      "Condition Reached, no gradient\n",
      "Condition Reached, no gradient\n",
      "Condition Reached, no gradient\n",
      "Condition Reached, no gradient\n",
      "Condition Reached, no gradient\n",
      "Condition Reached, no gradient\n",
      "Condition Reached, no gradient\n",
      "Condition Reached, no gradient\n",
      "Condition Reached, no gradient\n"
     ]
    }
   ],
   "source": [
    "from collections import defaultdict\n",
    "# len(test_dataset)\n",
    "dices = defaultdict(list)\n",
    "dices_60_100 = defaultdict(list)\n",
    "hds = defaultdict(list)\n",
    "hds_60_100 = defaultdict(list)\n",
    "dices_60_self = defaultdict(list)\n",
    "dices_100_self = defaultdict(list)\n",
    "hds_60_self = defaultdict(list)\n",
    "hds_100_self = defaultdict(list)\n",
    "for i in range(len(test_dataset)):\n",
    "    image,label=test_dataset[i]#image_all[idx],label_all[idx]\n",
    "    image = image.unsqueeze(dim=0)\n",
    "    \n",
    "    image , label = torch.tensor(image, requires_grad=True).float(), torch.tensor(label).float()\n",
    "    image , label = image.to(device), label.to(device)\n",
    "    \n",
    "    label_oh = make_one_hot(label.long(),15,device)\n",
    "    \n",
    "    adv_target=generate_target_swap(label_oh.cpu().numpy())\n",
    "    adv_target=torch.from_numpy(adv_target).float()\n",
    "    adv_target=adv_target.to(device)\n",
    "    \n",
    "    _, adv=torch.max(adv_target,1)\n",
    "    adv=adv.cpu().numpy()\n",
    "    \n",
    "    image_adv_100,output_clean_100, noise_total_100, noise_iteration_100, prediction_iteration_100, image_iteration_100=DAG(model=model_100,\n",
    "              image=image,\n",
    "              ground_truth=label_oh,\n",
    "              adv_target=adv_target,\n",
    "              num_iterations=int(num_iterations),\n",
    "              gamma=gamma,\n",
    "              no_background=True,\n",
    "              background_class=0,\n",
    "              device=device,\n",
    "              verbose=False)\n",
    "    \n",
    "    image_adv_60,output_clean_60, noise_total_60, noise_iteration_60, prediction_iteration_60, image_iteration_60=DAG(model=model_60,\n",
    "              image=image,\n",
    "              ground_truth=label_oh,\n",
    "              adv_target=adv_target,\n",
    "              num_iterations=int(num_iterations),\n",
    "              gamma=gamma,\n",
    "              no_background=True,\n",
    "              background_class=0,\n",
    "              device=device,\n",
    "              verbose=False)\n",
    "    \n",
    "\n",
    "    \n",
    "    output_60_100=model_100(image)\n",
    "    _,predictions=torch.max(output,1)\n",
    "    \n",
    "    for j in range(0,15):\n",
    "        dice, hd = calculate_metric_percase(prediction_iteration_100[-1] == j, prediction_iteration_60[0] == j)\n",
    "        dices[j].append(dice)\n",
    "        hds[j].append(hd)\n",
    "        dice, hd = calculate_metric_percase(prediction_iteration_60[-1] == j, prediction_iteration_100[0] == j)\n",
    "        dices_60_100[j].append(dice)\n",
    "        hds_60_100[j].append(hd)\n",
    "        \n",
    "        \n",
    "        dice, hd = calculate_metric_percase(prediction_iteration_60[-1] == j, prediction_iteration_60[0] == j)\n",
    "        dices_60_self[j].append(dice)\n",
    "        hds_60_self[j].append(hd)\n",
    "        dice, hd = calculate_metric_percase(prediction_iteration_100[-1] == j, prediction_iteration_100[0] == j)\n",
    "        dices_100_self[j].append(dice)\n",
    "        hds_100_self[j].append(hd)"
   ]
  },
  {
   "cell_type": "code",
   "execution_count": 12,
   "metadata": {},
   "outputs": [],
   "source": [
    "sum_dice = 0\n",
    "sum_hd = 0\n",
    "sum_dice_60_100 = 0\n",
    "sum_hd_60_100 = 0\n",
    "sum_dice_60_self = 0\n",
    "sum_hd_60_self = 0\n",
    "sum_dice_100_self = 0\n",
    "sum_hd_100_self = 0\n",
    "for k in dices.keys():\n",
    "    # print(k)\n",
    "    dice_per_class = np.mean(dices[k])\n",
    "    hd_per_class = np.mean(hds[k])\n",
    "    sum_dice += dice_per_class\n",
    "    sum_hd += hd_per_class\n",
    "    dice_per_class = np.mean(dices_60_100[k])\n",
    "    hd_per_class = np.mean(hds_60_100[k])\n",
    "    sum_dice_60_100 += dice_per_class\n",
    "    sum_hd_60_100 += hd_per_class\n",
    "    \n",
    "    dice_per_class = np.mean(dices_60_self[k])\n",
    "    hd_per_class = np.mean(hds_60_self[k])\n",
    "    sum_dice_60_self += dice_per_class\n",
    "    sum_hd_60_self += hd_per_class\n",
    "    dice_per_class = np.mean(dices_100_self[k])\n",
    "    hd_per_class = np.mean(hds_100_self[k])\n",
    "    sum_dice_100_self += dice_per_class\n",
    "    sum_hd_100_self += hd_per_class"
   ]
  },
  {
   "cell_type": "code",
   "execution_count": 13,
   "metadata": {},
   "outputs": [
    {
     "data": {
      "text/plain": [
       "0.3072691333390155"
      ]
     },
     "execution_count": 13,
     "metadata": {},
     "output_type": "execute_result"
    }
   ],
   "source": [
    "sum_dice / len(dices.keys())"
   ]
  },
  {
   "cell_type": "code",
   "execution_count": 14,
   "metadata": {},
   "outputs": [
    {
     "data": {
      "text/plain": [
       "6.283797532682178"
      ]
     },
     "execution_count": 14,
     "metadata": {},
     "output_type": "execute_result"
    }
   ],
   "source": [
    "sum_hd / len(hds.keys())"
   ]
  },
  {
   "cell_type": "code",
   "execution_count": 15,
   "metadata": {},
   "outputs": [
    {
     "data": {
      "text/plain": [
       "0.26750626245239284"
      ]
     },
     "execution_count": 15,
     "metadata": {},
     "output_type": "execute_result"
    }
   ],
   "source": [
    "sum_dice_60_100 / len(dices_60_100.keys())"
   ]
  },
  {
   "cell_type": "code",
   "execution_count": 16,
   "metadata": {},
   "outputs": [
    {
     "data": {
      "text/plain": [
       "5.684800942281326"
      ]
     },
     "execution_count": 16,
     "metadata": {},
     "output_type": "execute_result"
    }
   ],
   "source": [
    "sum_hd_60_100 / len(hds_60_100.keys())"
   ]
  },
  {
   "cell_type": "code",
   "execution_count": 17,
   "metadata": {},
   "outputs": [
    {
     "data": {
      "text/plain": [
       "0.2903609693291574"
      ]
     },
     "execution_count": 17,
     "metadata": {},
     "output_type": "execute_result"
    }
   ],
   "source": [
    "sum_dice_60_self / len(dices_60_self.keys())"
   ]
  },
  {
   "cell_type": "code",
   "execution_count": 18,
   "metadata": {},
   "outputs": [
    {
     "data": {
      "text/plain": [
       "5.403824715530314"
      ]
     },
     "execution_count": 18,
     "metadata": {},
     "output_type": "execute_result"
    }
   ],
   "source": [
    "sum_hd_60_self / len(hds_60_self.keys())"
   ]
  },
  {
   "cell_type": "code",
   "execution_count": 19,
   "metadata": {},
   "outputs": [
    {
     "data": {
      "text/plain": [
       "0.31192181165254595"
      ]
     },
     "execution_count": 19,
     "metadata": {},
     "output_type": "execute_result"
    }
   ],
   "source": [
    "sum_dice_100_self / len(dices_100_self.keys())"
   ]
  },
  {
   "cell_type": "code",
   "execution_count": 20,
   "metadata": {},
   "outputs": [
    {
     "data": {
      "text/plain": [
       "8.44629683342682"
      ]
     },
     "execution_count": 20,
     "metadata": {},
     "output_type": "execute_result"
    }
   ],
   "source": [
    "sum_hd_100_self / len(hds_100_self.keys())"
   ]
  },
  {
   "cell_type": "code",
   "execution_count": 32,
   "metadata": {
    "collapsed": true,
    "jupyter": {
     "outputs_hidden": true,
     "source_hidden": true
    },
    "tags": []
   },
   "outputs": [
    {
     "name": "stderr",
     "output_type": "stream",
     "text": [
      "/tmp/ipykernel_22178/2584238331.py:9: UserWarning: To copy construct from a tensor, it is recommended to use sourceTensor.clone().detach() or sourceTensor.clone().detach().requires_grad_(True), rather than torch.tensor(sourceTensor).\n",
      "  image , label = torch.tensor(image, requires_grad=True).float(), torch.tensor(label).float()\n"
     ]
    },
    {
     "name": "stdout",
     "output_type": "stream",
     "text": [
      "Condition Reached, no gradient\n",
      "Condition Reached, no gradient\n",
      "Condition Reached, no gradient\n",
      "Condition Reached, no gradient\n",
      "Condition Reached, no gradient\n",
      "Condition Reached, no gradient\n",
      "Condition Reached, no gradient\n",
      "Condition Reached, no gradient\n",
      "Condition Reached, no gradient\n",
      "Condition Reached, no gradient\n",
      "Condition Reached, no gradient\n",
      "Condition Reached, no gradient\n"
     ]
    }
   ],
   "source": [
    "from collections import defaultdict\n",
    "# len(test_dataset)\n",
    "dices = defaultdict(list)\n",
    "hds = defaultdict(list)\n",
    "for i in range(len(test_dataset)):\n",
    "    image,label=test_dataset[i]#image_all[idx],label_all[idx]\n",
    "    image = image.unsqueeze(dim=0)\n",
    "    \n",
    "    image , label = torch.tensor(image, requires_grad=True).float(), torch.tensor(label).float()\n",
    "    image , label = image.to(device), label.to(device)\n",
    "    \n",
    "    label_oh = make_one_hot(label.long(),15,device)\n",
    "    \n",
    "    adv_target=generate_target_swap(label_oh.cpu().numpy())\n",
    "    adv_target=torch.from_numpy(adv_target).float()\n",
    "    adv_target=adv_target.to(device)\n",
    "    \n",
    "    _, adv=torch.max(adv_target,1)\n",
    "    adv=adv.cpu().numpy()\n",
    "    \n",
    "    image_adv,output_clean, noise_total, noise_iteration, prediction_iteration, image_iteration=DAG(model=model,\n",
    "              image=image,\n",
    "              ground_truth=label_oh,\n",
    "              adv_target=adv_target,\n",
    "              num_iterations=int(num_iterations),\n",
    "              gamma=gamma,\n",
    "              no_background=True,\n",
    "              background_class=0,\n",
    "              device=device,\n",
    "              verbose=False)\n",
    "\n",
    "    for j in range(0,15):\n",
    "        dice, hd = calculate_metric_percase(prediction_iteration[0] == j, label[0].cpu().numpy() == j)\n",
    "        dices[j].append(dice)\n",
    "        hds[j].append(hd)\n",
    "        "
   ]
  },
  {
   "cell_type": "code",
   "execution_count": 33,
   "metadata": {
    "collapsed": true,
    "jupyter": {
     "outputs_hidden": true,
     "source_hidden": true
    },
    "tags": []
   },
   "outputs": [
    {
     "name": "stdout",
     "output_type": "stream",
     "text": [
      "0.3428447329131271\n",
      "11.986503617133215\n"
     ]
    }
   ],
   "source": [
    "sum_dice = 0\n",
    "sum_hd = 0;\n",
    "for k in dices.keys():\n",
    "    # print(k)\n",
    "    dice_per_class = np.mean(dices[k])\n",
    "    hd_per_class = np.mean(hds[k])\n",
    "    sum_dice += dice_per_class\n",
    "    sum_hd += hd_per_class\n",
    "    \n",
    "print(sum_dice / len(dices.keys()))\n",
    "print(sum_hd / len(hds.keys()))"
   ]
  },
  {
   "cell_type": "code",
   "execution_count": 15,
   "metadata": {
    "jp-MarkdownHeadingCollapsed": true,
    "tags": []
   },
   "outputs": [
    {
     "data": {
      "image/png": "[encoded data removed]",
      "text/plain": [
       "<Figure size 432x288 with 3 Axes>"
      ]
     },
     "metadata": {
      "needs_background": "light"
     },
     "output_type": "display_data"
    }
   ],
   "source": [
    "#Ground truth segmentation mask\n",
    "image,label=test_dataset[0]#image_all[idx],label_all[idx]\n",
    "image = image.unsqueeze(dim=0)\n",
    "plt.figure()\n",
    "plt.subplot(121)\n",
    "plt.imshow(image[0][0],cmap='gray')\n",
    "plt.subplot(122)\n",
    "plt.imshow(label[0],cmap='jet')\n",
    "plt.colorbar()\n",
    "plt.show()"
   ]
  },
  {
   "cell_type": "code",
   "execution_count": 16,
   "metadata": {},
   "outputs": [
    {
     "name": "stderr",
     "output_type": "stream",
     "text": [
      "/tmp/ipykernel_28018/3803926936.py:1: UserWarning: To copy construct from a tensor, it is recommended to use sourceTensor.clone().detach() or sourceTensor.clone().detach().requires_grad_(True), rather than torch.tensor(sourceTensor).\n",
      "  image , label = torch.tensor(image, requires_grad=True).float(), torch.tensor(label).float()\n"
     ]
    }
   ],
   "source": [
    "image , label = torch.tensor(image, requires_grad=True).float(), torch.tensor(label).float()\n",
    "image , label = image.to(device), label.to(device)"
   ]
  },
  {
   "cell_type": "markdown",
   "metadata": {},
   "source": [
    "### Attacking the model"
   ]
  },
  {
   "cell_type": "markdown",
   "metadata": {},
   "source": [
    "#### Generating Target\n",
    "There are two type of targets available:\n",
    "-  __generate_target__ increases the thickness of the skull\n",
    "-  __generate_target_swap__ swaps the most common classes"
   ]
  },
  {
   "cell_type": "code",
   "execution_count": 17,
   "metadata": {},
   "outputs": [],
   "source": [
    "label_oh=make_one_hot(label.long(),15,device)"
   ]
  },
  {
   "cell_type": "code",
   "execution_count": 23,
   "metadata": {},
   "outputs": [
    {
     "data": {
      "image/png": "[encoded data removed]",
      "text/plain": [
       "<Figure size 432x288 with 3 Axes>"
      ]
     },
     "metadata": {
      "needs_background": "light"
     },
     "output_type": "display_data"
    }
   ],
   "source": [
    "# Change labels from [batch_size, height, width] to [batch_size, num_classes, height, width]\n",
    "# label_oh=make_one_hot(label.long(),15,device)\n",
    "adv_target=generate_target_swap(label_oh.cpu().numpy())\n",
    "adv_target=torch.from_numpy(adv_target).float()\n",
    "adv_target=adv_target.to(device)\n",
    "\n",
    "#Visualizing the target\n",
    "_, adv=torch.max(adv_target,1)\n",
    "adv=adv.cpu().numpy()\n",
    "plt.figure()\n",
    "plt.subplot(121)\n",
    "plt.title('Original Label')\n",
    "plt.imshow(label[0].cpu().numpy(),cmap='jet')\n",
    "plt.subplot(122)\n",
    "plt.title('Target')\n",
    "plt.imshow(adv[0],cmap='jet')\n",
    "plt.colorbar()\n",
    "plt.show()"
   ]
  },
  {
   "cell_type": "code",
   "execution_count": 29,
   "metadata": {},
   "outputs": [
    {
     "name": "stdout",
     "output_type": "stream",
     "text": [
      "Condition Reached, no gradient\n"
     ]
    }
   ],
   "source": [
    "image_adv,output_clean, noise_total, noise_iteration, prediction_iteration, image_iteration=DAG(model=model,\n",
    "              image=image,\n",
    "              ground_truth=label_oh,\n",
    "              adv_target=adv_target,\n",
    "              num_iterations= 40,#int(num_iterations),\n",
    "              gamma=gamma,\n",
    "              no_background=True,\n",
    "              background_class=0,\n",
    "              device=device,\n",
    "              verbose=False)"
   ]
  },
  {
   "cell_type": "code",
   "execution_count": 30,
   "metadata": {},
   "outputs": [
    {
     "data": {
      "image/png": "[encoded data removed]",
      "text/plain": [
       "<Figure size 432x288 with 5 Axes>"
      ]
     },
     "metadata": {
      "needs_background": "light"
     },
     "output_type": "display_data"
    }
   ],
   "source": [
    "plt.figure()\n",
    "plt.subplot(221)\n",
    "plt.title('Original Image')\n",
    "plt.imshow(image_iteration[0],cmap='gray')\n",
    "plt.axis('off')\n",
    "plt.subplot(222)\n",
    "plt.title('Adversarial Image')\n",
    "plt.imshow(image_iteration[-1],cmap='gray')\n",
    "plt.axis('off')\n",
    "plt.subplot(223)\n",
    "plt.title('Original prediction')\n",
    "plt.imshow(prediction_iteration[0],cmap='jet')\n",
    "plt.axis('off')\n",
    "plt.subplot(224)\n",
    "plt.title('Adversarial prediction')\n",
    "plt.imshow(prediction_iteration[-1],cmap='jet')\n",
    "plt.axis('off')\n",
    "plt.colorbar()\n",
    "plt.show()"
   ]
  },
  {
   "cell_type": "code",
   "execution_count": 26,
   "metadata": {},
   "outputs": [
    {
     "data": {
      "text/plain": [
       "(0.6164442945908193, 3.1622776601683795)"
      ]
     },
     "execution_count": 26,
     "metadata": {},
     "output_type": "execute_result"
    }
   ],
   "source": [
    "calculate_metric_percase(prediction_iteration[-1] == 6, label[0].cpu().numpy() == 6)"
   ]
  },
  {
   "cell_type": "code",
   "execution_count": 27,
   "metadata": {},
   "outputs": [
    {
     "data": {
      "text/plain": [
       "(0.7005165017946249, 3.0)"
      ]
     },
     "execution_count": 27,
     "metadata": {},
     "output_type": "execute_result"
    }
   ],
   "source": [
    "calculate_metric_percase(prediction_iteration[-1] == 6, prediction_iteration[1] == 6)"
   ]
  },
  {
   "cell_type": "code",
   "execution_count": null,
   "metadata": {},
   "outputs": [
    {
     "data": {
      "text/plain": [
       "(1.0, 0.0)"
      ]
     },
     "execution_count": 28,
     "metadata": {},
     "output_type": "execute_result"
    }
   ],
   "source": [
    "calculate_metric_percase(label[0].cpu().numpy() == 6, label[0].cpu().numpy() == 6)"
   ]
  },
  {
   "cell_type": "code",
   "execution_count": null,
   "metadata": {},
   "outputs": [],
   "source": [
    "'''\n",
    "Todo: Load 2 models and transfer attack...Original prediction vs adversarial prediction\n",
    "'''"
   ]
  }
 ],
 "metadata": {
  "kernelspec": {
   "display_name": "Python 3 (ipykernel)",
   "language": "python",
   "name": "python3"
  },
  "language_info": {
   "codemirror_mode": {
    "name": "ipython",
    "version": 3
   },
   "file_extension": ".py",
   "mimetype": "text/x-python",
   "name": "python",
   "nbconvert_exporter": "python",
   "pygments_lexer": "ipython3",
   "version": "3.9.7"
  }
 },
 "nbformat": 4,
 "nbformat_minor": 4
}
